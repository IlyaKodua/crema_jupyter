{
 "cells": [
  {
   "cell_type": "code",
   "execution_count": 1,
   "metadata": {},
   "outputs": [],
   "source": [
    "import pandas as pd\n",
    "import numpy as np\n",
    "import librosa\n",
    "from matplotlib import pyplot as plt\n",
    "import warnings\n",
    "import cv2\n",
    "import dlib\n",
    "import imutils\n",
    "from mlxtend.image import extract_face_landmarks\n",
    "import pickle"
   ]
  },
  {
   "cell_type": "code",
   "execution_count": 2,
   "metadata": {},
   "outputs": [
    {
     "data": {
      "text/plain": [
       "22326"
      ]
     },
     "execution_count": 2,
     "metadata": {},
     "output_type": "execute_result"
    }
   ],
   "source": [
    "data_csv = pd.read_csv(\"processedResults/summaryTable.csv\")\n",
    "labels_csv = pd.read_csv(\"processedResults/tabulatedVotes.csv\")\n",
    "len(labels_csv[\"A\"])"
   ]
  },
  {
   "cell_type": "code",
   "execution_count": 3,
   "metadata": {},
   "outputs": [
    {
     "data": {
      "text/html": [
       "<div>\n",
       "<style scoped>\n",
       "    .dataframe tbody tr th:only-of-type {\n",
       "        vertical-align: middle;\n",
       "    }\n",
       "\n",
       "    .dataframe tbody tr th {\n",
       "        vertical-align: top;\n",
       "    }\n",
       "\n",
       "    .dataframe thead th {\n",
       "        text-align: right;\n",
       "    }\n",
       "</style>\n",
       "<table border=\"1\" class=\"dataframe\">\n",
       "  <thead>\n",
       "    <tr style=\"text-align: right;\">\n",
       "      <th></th>\n",
       "      <th>Unnamed: 0</th>\n",
       "      <th>FileName</th>\n",
       "      <th>VoiceVote</th>\n",
       "      <th>VoiceLevel</th>\n",
       "      <th>FaceVote</th>\n",
       "      <th>FaceLevel</th>\n",
       "      <th>MultiModalVote</th>\n",
       "      <th>MultiModalLevel</th>\n",
       "    </tr>\n",
       "  </thead>\n",
       "  <tbody>\n",
       "    <tr>\n",
       "      <th>0</th>\n",
       "      <td>1</td>\n",
       "      <td>1001_IEO_NEU_XX</td>\n",
       "      <td>N</td>\n",
       "      <td>69.1</td>\n",
       "      <td>N</td>\n",
       "      <td>92.22</td>\n",
       "      <td>N</td>\n",
       "      <td>64.78</td>\n",
       "    </tr>\n",
       "    <tr>\n",
       "      <th>1</th>\n",
       "      <td>2</td>\n",
       "      <td>1001_IEO_HAP_LO</td>\n",
       "      <td>N</td>\n",
       "      <td>71.67</td>\n",
       "      <td>H</td>\n",
       "      <td>57</td>\n",
       "      <td>H</td>\n",
       "      <td>57.38</td>\n",
       "    </tr>\n",
       "    <tr>\n",
       "      <th>2</th>\n",
       "      <td>3</td>\n",
       "      <td>1001_IEO_HAP_MD</td>\n",
       "      <td>N</td>\n",
       "      <td>67.71</td>\n",
       "      <td>H</td>\n",
       "      <td>62.62</td>\n",
       "      <td>H</td>\n",
       "      <td>56.56</td>\n",
       "    </tr>\n",
       "    <tr>\n",
       "      <th>3</th>\n",
       "      <td>4</td>\n",
       "      <td>1001_IEO_HAP_HI</td>\n",
       "      <td>H</td>\n",
       "      <td>63.5</td>\n",
       "      <td>H</td>\n",
       "      <td>68.25</td>\n",
       "      <td>H</td>\n",
       "      <td>73.2</td>\n",
       "    </tr>\n",
       "    <tr>\n",
       "      <th>4</th>\n",
       "      <td>5</td>\n",
       "      <td>1001_IEO_SAD_LO</td>\n",
       "      <td>N</td>\n",
       "      <td>73.71</td>\n",
       "      <td>N</td>\n",
       "      <td>73.5</td>\n",
       "      <td>N</td>\n",
       "      <td>74.8</td>\n",
       "    </tr>\n",
       "  </tbody>\n",
       "</table>\n",
       "</div>"
      ],
      "text/plain": [
       "   Unnamed: 0         FileName VoiceVote VoiceLevel FaceVote FaceLevel  \\\n",
       "0           1  1001_IEO_NEU_XX         N       69.1        N     92.22   \n",
       "1           2  1001_IEO_HAP_LO         N      71.67        H        57   \n",
       "2           3  1001_IEO_HAP_MD         N      67.71        H     62.62   \n",
       "3           4  1001_IEO_HAP_HI         H       63.5        H     68.25   \n",
       "4           5  1001_IEO_SAD_LO         N      73.71        N      73.5   \n",
       "\n",
       "  MultiModalVote MultiModalLevel  \n",
       "0              N           64.78  \n",
       "1              H           57.38  \n",
       "2              H           56.56  \n",
       "3              H            73.2  \n",
       "4              N            74.8  "
      ]
     },
     "execution_count": 3,
     "metadata": {},
     "output_type": "execute_result"
    }
   ],
   "source": [
    "data_csv.head(5)"
   ]
  },
  {
   "cell_type": "code",
   "execution_count": 4,
   "metadata": {},
   "outputs": [],
   "source": [
    "labels_csv = labels_csv[:7442]"
   ]
  },
  {
   "cell_type": "code",
   "execution_count": 5,
   "metadata": {},
   "outputs": [
    {
     "data": {
      "text/html": [
       "<div>\n",
       "<style scoped>\n",
       "    .dataframe tbody tr th:only-of-type {\n",
       "        vertical-align: middle;\n",
       "    }\n",
       "\n",
       "    .dataframe tbody tr th {\n",
       "        vertical-align: top;\n",
       "    }\n",
       "\n",
       "    .dataframe thead th {\n",
       "        text-align: right;\n",
       "    }\n",
       "</style>\n",
       "<table border=\"1\" class=\"dataframe\">\n",
       "  <thead>\n",
       "    <tr style=\"text-align: right;\">\n",
       "      <th></th>\n",
       "      <th>Unnamed: 0</th>\n",
       "      <th>A</th>\n",
       "      <th>D</th>\n",
       "      <th>F</th>\n",
       "      <th>H</th>\n",
       "      <th>N</th>\n",
       "      <th>S</th>\n",
       "      <th>fileName</th>\n",
       "      <th>numResponses</th>\n",
       "      <th>agreement</th>\n",
       "      <th>...</th>\n",
       "      <th>meanSadResp</th>\n",
       "      <th>medianEmoResp</th>\n",
       "      <th>meanEmoRespNorm</th>\n",
       "      <th>meanAngerRespNorm</th>\n",
       "      <th>meanDisgustRespNorm</th>\n",
       "      <th>meanFearRespNorm</th>\n",
       "      <th>meanHappyRespNorm</th>\n",
       "      <th>meanNeutralRespNorm</th>\n",
       "      <th>meanSadRespNorm</th>\n",
       "      <th>medianEmoRespNorm</th>\n",
       "    </tr>\n",
       "  </thead>\n",
       "  <tbody>\n",
       "    <tr>\n",
       "      <th>0</th>\n",
       "      <td>100001</td>\n",
       "      <td>0</td>\n",
       "      <td>0</td>\n",
       "      <td>0</td>\n",
       "      <td>1</td>\n",
       "      <td>10</td>\n",
       "      <td>0</td>\n",
       "      <td>1001_IEO_NEU_XX</td>\n",
       "      <td>11</td>\n",
       "      <td>0.909091</td>\n",
       "      <td>...</td>\n",
       "      <td>-1.0</td>\n",
       "      <td>87.0</td>\n",
       "      <td>66.171320</td>\n",
       "      <td>-1.000000</td>\n",
       "      <td>-1.000000</td>\n",
       "      <td>-1.0</td>\n",
       "      <td>97.894737</td>\n",
       "      <td>62.998978</td>\n",
       "      <td>-1.000</td>\n",
       "      <td>83.333333</td>\n",
       "    </tr>\n",
       "    <tr>\n",
       "      <th>1</th>\n",
       "      <td>100002</td>\n",
       "      <td>0</td>\n",
       "      <td>0</td>\n",
       "      <td>0</td>\n",
       "      <td>3</td>\n",
       "      <td>6</td>\n",
       "      <td>0</td>\n",
       "      <td>1001_IEO_HAP_LO</td>\n",
       "      <td>9</td>\n",
       "      <td>0.666667</td>\n",
       "      <td>...</td>\n",
       "      <td>-1.0</td>\n",
       "      <td>72.0</td>\n",
       "      <td>53.816160</td>\n",
       "      <td>-1.000000</td>\n",
       "      <td>-1.000000</td>\n",
       "      <td>-1.0</td>\n",
       "      <td>36.292735</td>\n",
       "      <td>62.577873</td>\n",
       "      <td>-1.000</td>\n",
       "      <td>53.846154</td>\n",
       "    </tr>\n",
       "    <tr>\n",
       "      <th>2</th>\n",
       "      <td>100003</td>\n",
       "      <td>0</td>\n",
       "      <td>0</td>\n",
       "      <td>0</td>\n",
       "      <td>4</td>\n",
       "      <td>7</td>\n",
       "      <td>0</td>\n",
       "      <td>1001_IEO_HAP_MD</td>\n",
       "      <td>11</td>\n",
       "      <td>0.636364</td>\n",
       "      <td>...</td>\n",
       "      <td>-1.0</td>\n",
       "      <td>60.0</td>\n",
       "      <td>61.874713</td>\n",
       "      <td>-1.000000</td>\n",
       "      <td>-1.000000</td>\n",
       "      <td>-1.0</td>\n",
       "      <td>55.165230</td>\n",
       "      <td>65.708703</td>\n",
       "      <td>-1.000</td>\n",
       "      <td>61.111111</td>\n",
       "    </tr>\n",
       "    <tr>\n",
       "      <th>3</th>\n",
       "      <td>100004</td>\n",
       "      <td>2</td>\n",
       "      <td>0</td>\n",
       "      <td>0</td>\n",
       "      <td>6</td>\n",
       "      <td>2</td>\n",
       "      <td>0</td>\n",
       "      <td>1001_IEO_HAP_HI</td>\n",
       "      <td>10</td>\n",
       "      <td>0.600000</td>\n",
       "      <td>...</td>\n",
       "      <td>-1.0</td>\n",
       "      <td>69.5</td>\n",
       "      <td>52.927309</td>\n",
       "      <td>84.420185</td>\n",
       "      <td>-1.000000</td>\n",
       "      <td>-1.0</td>\n",
       "      <td>56.542708</td>\n",
       "      <td>10.588235</td>\n",
       "      <td>-1.000</td>\n",
       "      <td>66.308140</td>\n",
       "    </tr>\n",
       "    <tr>\n",
       "      <th>4</th>\n",
       "      <td>100005</td>\n",
       "      <td>1</td>\n",
       "      <td>1</td>\n",
       "      <td>0</td>\n",
       "      <td>0</td>\n",
       "      <td>7</td>\n",
       "      <td>1</td>\n",
       "      <td>1001_IEO_SAD_LO</td>\n",
       "      <td>10</td>\n",
       "      <td>0.700000</td>\n",
       "      <td>...</td>\n",
       "      <td>6.0</td>\n",
       "      <td>80.0</td>\n",
       "      <td>59.486728</td>\n",
       "      <td>12.941176</td>\n",
       "      <td>94.936709</td>\n",
       "      <td>-1.0</td>\n",
       "      <td>-1.000000</td>\n",
       "      <td>69.123485</td>\n",
       "      <td>3.125</td>\n",
       "      <td>75.182073</td>\n",
       "    </tr>\n",
       "  </tbody>\n",
       "</table>\n",
       "<p>5 rows × 27 columns</p>\n",
       "</div>"
      ],
      "text/plain": [
       "   Unnamed: 0  A  D  F  H   N  S         fileName  numResponses  agreement  \\\n",
       "0      100001  0  0  0  1  10  0  1001_IEO_NEU_XX            11   0.909091   \n",
       "1      100002  0  0  0  3   6  0  1001_IEO_HAP_LO             9   0.666667   \n",
       "2      100003  0  0  0  4   7  0  1001_IEO_HAP_MD            11   0.636364   \n",
       "3      100004  2  0  0  6   2  0  1001_IEO_HAP_HI            10   0.600000   \n",
       "4      100005  1  1  0  0   7  1  1001_IEO_SAD_LO            10   0.700000   \n",
       "\n",
       "   ... meanSadResp  medianEmoResp  meanEmoRespNorm  meanAngerRespNorm  \\\n",
       "0  ...        -1.0           87.0        66.171320          -1.000000   \n",
       "1  ...        -1.0           72.0        53.816160          -1.000000   \n",
       "2  ...        -1.0           60.0        61.874713          -1.000000   \n",
       "3  ...        -1.0           69.5        52.927309          84.420185   \n",
       "4  ...         6.0           80.0        59.486728          12.941176   \n",
       "\n",
       "   meanDisgustRespNorm  meanFearRespNorm  meanHappyRespNorm  \\\n",
       "0            -1.000000              -1.0          97.894737   \n",
       "1            -1.000000              -1.0          36.292735   \n",
       "2            -1.000000              -1.0          55.165230   \n",
       "3            -1.000000              -1.0          56.542708   \n",
       "4            94.936709              -1.0          -1.000000   \n",
       "\n",
       "   meanNeutralRespNorm  meanSadRespNorm  medianEmoRespNorm  \n",
       "0            62.998978           -1.000          83.333333  \n",
       "1            62.577873           -1.000          53.846154  \n",
       "2            65.708703           -1.000          61.111111  \n",
       "3            10.588235           -1.000          66.308140  \n",
       "4            69.123485            3.125          75.182073  \n",
       "\n",
       "[5 rows x 27 columns]"
      ]
     },
     "execution_count": 5,
     "metadata": {},
     "output_type": "execute_result"
    }
   ],
   "source": [
    "labels_csv.head(5)"
   ]
  },
  {
   "cell_type": "code",
   "execution_count": 6,
   "metadata": {},
   "outputs": [],
   "source": [
    "A = labels_csv[\"A\"]\n",
    "D = labels_csv[\"D\"]\n",
    "F = labels_csv[\"F\"]\n",
    "H = labels_csv[\"H\"]\n",
    "N = labels_csv[\"N\"]\n",
    "S = labels_csv[\"S\"]\n",
    "classes = {\n",
    "\"Anger\" : 0, \n",
    "\"Disgust\" : 1,\n",
    "\"Fear\" : 2,\n",
    "\"Happy\" : 3,\n",
    "\"Neutral\" : 4,\n",
    "\"Sad\" : 5\n",
    "}\n",
    "inv_map = {v: k for k, v in classes.items()}\n",
    "classes_str = [\"Anger\", \"Disgust\",\"Fear\",\"Happy\",\"Neutral\",\"Sad\"]\n",
    "classes_russ = [\"Гнев\", \"Отвращение\",\"Страх\",\"Счастье\",\"Нет эмоций\",\"Грусть\"]\n",
    "hist_data = np.zeros(6)\n",
    "# labels = np.zeros((len(A), 6))\n",
    "labels = np.zeros((len(A), 1), dtype= np.uint)\n",
    "for i in range(len(A)):\n",
    "    labels[i] = int(np.argmax(np.array([A[i], D[i], F[i], H[i], N[i], S[i]], dtype=np.float32)))\n",
    "    hist_data[labels[i]] += 1\n",
    "\n",
    "with open('data_pkl/labels.pkl', 'wb') as f:\n",
    "    pickle.dump(labels, f)"
   ]
  },
  {
   "cell_type": "markdown",
   "metadata": {},
   "source": [
    "Построение гистограммы расспределеня эмоций по классам в датасете"
   ]
  },
  {
   "cell_type": "code",
   "execution_count": 7,
   "metadata": {},
   "outputs": [
    {
     "data": {
      "image/png": "[encoded data removed]",
      "text/plain": [
       "<Figure size 432x288 with 1 Axes>"
      ]
     },
     "metadata": {
      "needs_background": "light"
     },
     "output_type": "display_data"
    }
   ],
   "source": [
    "plt.figure(1)\n",
    "plt.bar(classes_russ, height = hist_data,color = \"r\")\n",
    "plt.savefig(\"img_example/hist_classes.png\")\n",
    "plt.show()"
   ]
  },
  {
   "cell_type": "code",
   "execution_count": 8,
   "metadata": {},
   "outputs": [
    {
     "data": {
      "text/plain": [
       "7442"
      ]
     },
     "execution_count": 8,
     "metadata": {},
     "output_type": "execute_result"
    }
   ],
   "source": [
    "files = data_csv[\"FileName\"]\n",
    "files_wav = \"AudioMP3/\" + files + \".mp3\"\n",
    "files_video = \"VideoFlash/\" + files + \".flv\"\n",
    "len(files)"
   ]
  },
  {
   "cell_type": "code",
   "execution_count": 9,
   "metadata": {},
   "outputs": [],
   "source": [
    "files_video = files_video\n",
    "files_wav = files_wav"
   ]
  },
  {
   "cell_type": "markdown",
   "metadata": {},
   "source": [
    "Получение звуковых признаков: mfcc и мел спектрограмма"
   ]
  },
  {
   "cell_type": "code",
   "execution_count": 10,
   "metadata": {},
   "outputs": [],
   "source": [
    "def my_resize(y, len_y):\n",
    "    if(len(y) >= len_y):\n",
    "        return y[0:len_y]\n",
    "    else:\n",
    "        return np.pad(y, [(0, len_y - len(y))], mode='constant', constant_values=0)\n",
    "\n",
    "def mel_norm(mel):\n",
    "    return 2*np.log(1 + mel) / np.log(1 + np.max(mel)) - 1\n",
    "\n",
    "def mfcc_norm(mfcc):\n",
    "    return 2*(mfcc - np.min(mfcc)) / (np.max(mfcc) - np.min(mfcc)) - 1\n",
    "\n",
    "def get_audio_mfcc(files_wav):\n",
    "    len_y = int(16e3*12) #median len (4608 + 2725632) / 2\n",
    "    data_mfcc = []\n",
    "    data_mel = []\n",
    "    time = []\n",
    "    warnings.filterwarnings('ignore')\n",
    "    for i, file in enumerate(files_wav):\n",
    "\n",
    "        cycl_persent = int((i+1)/len(files_wav)*100)\n",
    "        print(cycl_persent, \" %\")\n",
    "\n",
    "\n",
    "        y, sr = librosa.load(file, sr = None)\n",
    "        time.append(len(y)/16e3)\n",
    "        y = my_resize(y, len_y)\n",
    "        mfcc = librosa.feature.mfcc(y=y, sr=sr)\n",
    "        mel = librosa.feature.melspectrogram(y=y, sr=sr, n_mels=128,\n",
    "                            fmax=16e3)\n",
    "        data_mfcc.append(mfcc_norm(mfcc.astype(\"float32\")))\n",
    "        data_mel.append(mel_norm(mel.astype(\"float32\")))\n",
    "    return data_mel, data_mfcc, time\n",
    "# data_mel, data_mfcc, time = get_audio_mfcc(files_wav)\n",
    "\n",
    "# with open('data_pkl/data_mel.pkl', 'wb') as f:\n",
    "#     pickle.dump(data_mel, f)\n",
    "\n",
    "\n",
    "# with open('data_pkl/time.pkl', 'wb') as f:\n",
    "#     pickle.dump(time, f)\n",
    "\n",
    "# with open('data_pkl/data_mfcc.pkl', 'wb') as f:\n",
    "#     pickle.dump(data_mfcc, f)\n"
   ]
  },
  {
   "cell_type": "markdown",
   "metadata": {},
   "source": [
    "Распределение длительности звукозаписей по времени"
   ]
  },
  {
   "cell_type": "code",
   "execution_count": 11,
   "metadata": {},
   "outputs": [
    {
     "data": {
      "image/png": "[encoded data removed]",
      "text/plain": [
       "<Figure size 432x288 with 1 Axes>"
      ]
     },
     "metadata": {
      "needs_background": "light"
     },
     "output_type": "display_data"
    }
   ],
   "source": [
    "\n",
    "with open(r\"data_pkl/time.pkl\", \"rb\") as input_file:\n",
    "    time = pickle.load(input_file)\n",
    "time = np.array(time)\n",
    "time[time == np.max(time)] = np.median(time)\n",
    "plt.hist(time, density=True, bins=50)  # density=False would make counts\n",
    "plt.ylabel('Вероятность')\n",
    "plt.xlabel('Время, с')\n",
    "plt.savefig(\"img_example/hist.png\")"
   ]
  },
  {
   "cell_type": "code",
   "execution_count": 12,
   "metadata": {},
   "outputs": [
    {
     "data": {
      "text/plain": [
       "192000.0"
      ]
     },
     "execution_count": 12,
     "metadata": {},
     "output_type": "execute_result"
    }
   ],
   "source": [
    "16e3*12"
   ]
  },
  {
   "cell_type": "markdown",
   "metadata": {},
   "source": [
    "Получение визуальных признаков"
   ]
  },
  {
   "cell_type": "code",
   "execution_count": 13,
   "metadata": {},
   "outputs": [],
   "source": [
    "def convert_and_trim_bb(image, rect):\n",
    "\t# extract the starting and ending (x, y)-coordinates of the\n",
    "\t# bounding box\n",
    "\tstartX = rect.left()\n",
    "\tstartY = rect.top()\n",
    "\tendX = rect.right()\n",
    "\tendY = rect.bottom()\n",
    "\t# ensure the bounding box coordinates fall within the spatial\n",
    "\t# dimensions of the image\n",
    "\tstartX = max(0, startX)\n",
    "\tstartY = max(0, startY)\n",
    "\tendX = min(endX, image.shape[1])\n",
    "\tendY = min(endY, image.shape[0])\n",
    "\t# compute the width and height of the bounding box\n",
    "\tw = endX - startX\n",
    "\th = endY - startY\n",
    "\t# return our bounding box coordinates\n",
    "\treturn (startX, startY, w, h)\n",
    "\n",
    "def shape_to_np(shape, dtype=\"int\"):\n",
    "\t# initialize the list of (x, y)-coordinates\n",
    "\tcoords = np.zeros((68, 2), dtype=dtype)\n",
    "\t# loop over the 68 facial landmarks and convert them\n",
    "\t# to a 2-tuple of (x, y)-coordinates\n",
    "\tfor i in range(0, 68):\n",
    "\t\tcoords[i] = (shape.part(i).x, shape.part(i).y)\n",
    "\t# return the list of (x, y)-coordinates\n",
    "\treturn coords\n",
    "\n",
    "def norm_landmarks(landmarks):\n",
    "\teps = 1e-6\n",
    "\tlandmarks = landmarks.astype(\"float32\").T\n",
    "\tlandmarks[0,:] -= np.min(landmarks[0,:])\n",
    "\tlandmarks[1,:] -= np.min(landmarks[1,:])\n",
    "\tlandmarks[0,:] /= np.max(landmarks[0,:]) + eps\n",
    "\tlandmarks[1,:] /= np.max(landmarks[1,:]) + eps\n",
    "\treturn 2*landmarks - 1\n",
    "\n",
    "\t"
   ]
  },
  {
   "cell_type": "code",
   "execution_count": 14,
   "metadata": {},
   "outputs": [],
   "source": [
    "import time\n",
    "# 3756\n",
    "def get_face_from_vieo(files_video):\n",
    "\n",
    "    arr_point = []\n",
    "    arr_face = []\n",
    "    cnt_png = 0\n",
    "    timer = time.time()\n",
    "    N = len(files_video)\n",
    "    print(\"len \", len(files_video))\n",
    "    for i in range(N):\n",
    "        cycl_persent = int((i+1)/N*100)\n",
    "        print(cycl_persent, \" %\")\n",
    "        print(time.time() - timer, \" s\")\n",
    "        timer = time.time()\n",
    "        cap = cv2.VideoCapture(files_video[i])\n",
    "        im = np.zeros((64,64,3), dtype = np.float32)\n",
    "        cnt = 0\n",
    "        cnt2 = 0\n",
    "        print(i)\n",
    "        while(cap.isOpened()):\n",
    "            ret, frame = cap.read()\n",
    "            cnt2 += 1\n",
    "            if ret:\n",
    "                if cnt2 % 5 != 0:\n",
    "                    continue\n",
    "                detector = dlib.get_frontal_face_detector()\n",
    "                image = imutils.resize(frame, width=600)\n",
    "                rgb = cv2.cvtColor(image, cv2.COLOR_BGR2RGB)\n",
    "                rects = detector(rgb, 1)\n",
    "                if len(rects) == 0:\n",
    "                    img = np.zeros_like(image)\n",
    "                    img = cv2.resize(img, (64,64), interpolation = cv2.INTER_AREA)\n",
    "                else:\n",
    "                    box = [convert_and_trim_bb(rgb, r) for r in rects][0]\n",
    "                    img = rgb[box[1]:box[1] + box[3], box[0]:box[0] + box[2],:]\n",
    "                    # img = cv2.cvtColor(img, cv2.COLOR_BGR2GRAY)\n",
    "                    img = cv2.resize(img, (64,64), interpolation = cv2.INTER_AREA)\n",
    "                im += img/255\n",
    "                cnt += 1\n",
    "            else:\n",
    "                break\n",
    "        # plt.figure(1)\n",
    "        # plt.imshow(im/cnt)\n",
    "        # plt.show()\n",
    "        # plt.imsave('img_example/'+ str(cnt_png) + '.png', im/cnt)\n",
    "        # cnt_png += 1\n",
    "        ln_img = im/cnt*255\n",
    "        ln_img = cv2.cvtColor(ln_img.astype(\"uint8\"), cv2.COLOR_BGR2GRAY)\n",
    "        landmarks = extract_face_landmarks(ln_img.astype(\"uint8\"))\n",
    "        if landmarks is None:\n",
    "            landmarks = np.zeros((62,2))\n",
    "        arr_point.append(norm_landmarks(landmarks))\n",
    "\n",
    "        arr_face.append(2*im/cnt - 1)\n",
    "        cap.release()\n",
    "    return arr_face, arr_point\n",
    "\n",
    "# arr_face, arr_point = get_face_from_vieo(files_video)\n",
    "\n",
    "# print(len(arr_face), \" len\")\n",
    "# with open('data_pkl/arr_face.pkl', 'wb') as f:\n",
    "#     pickle.dump(arr_face, f)\n",
    "\n",
    "# with open('data_pkl/arr_point.pkl', 'wb') as f:\n",
    "#     pickle.dump(arr_point, f)"
   ]
  },
  {
   "cell_type": "code",
   "execution_count": 15,
   "metadata": {},
   "outputs": [],
   "source": [
    "with open(r\"data_pkl/data_mfcc_all.pkl\", \"rb\") as input_file:\n",
    "    mfcc = pickle.load(input_file)\n",
    "with open(r\"data_pkl/data_mel_all.pkl\", \"rb\") as input_file:\n",
    "    mel = pickle.load(input_file)\n",
    "with open(r\"data_pkl/arr_point_all.pkl\", \"rb\") as input_file:\n",
    "    points = pickle.load(input_file)\n",
    "with open(r\"data_pkl/arr_face_all.pkl\", \"rb\") as input_file:\n",
    "    face = pickle.load(input_file)"
   ]
  },
  {
   "cell_type": "code",
   "execution_count": null,
   "metadata": {},
   "outputs": [],
   "source": []
  },
  {
   "cell_type": "code",
   "execution_count": null,
   "metadata": {},
   "outputs": [],
   "source": []
  },
  {
   "cell_type": "code",
   "execution_count": null,
   "metadata": {},
   "outputs": [],
   "source": []
  },
  {
   "cell_type": "markdown",
   "metadata": {},
   "source": [
    "Предобработка признаков: преобразование в вектор и удаление значения Nan"
   ]
  },
  {
   "cell_type": "code",
   "execution_count": 16,
   "metadata": {},
   "outputs": [
    {
     "data": {
      "text/plain": [
       "(7442, 7520)"
      ]
     },
     "execution_count": 16,
     "metadata": {},
     "output_type": "execute_result"
    }
   ],
   "source": [
    "mfcc_copy = np.asarray(mfcc)\n",
    "mfcc = np.zeros((len(mfcc_copy) , len(mfcc[0].reshape(-1))))\n",
    "for i in range(len(mfcc)):\n",
    "    mfcc[i] = mfcc_copy[i].flatten()\n",
    "mfcc.shape"
   ]
  },
  {
   "cell_type": "code",
   "execution_count": 17,
   "metadata": {},
   "outputs": [],
   "source": [
    "mel_copy = np.asarray(mel)\n",
    "mel = np.zeros((len(mel_copy) , len(mel[0].reshape(-1))))\n",
    "for i in range(len(mel)):\n",
    "    mel[i] = mel_copy[i].flatten()\n",
    "mel.shape\n",
    "mel[np.isnan(mel)] = 0"
   ]
  },
  {
   "cell_type": "code",
   "execution_count": 18,
   "metadata": {},
   "outputs": [
    {
     "data": {
      "text/plain": [
       "(7442, 136)"
      ]
     },
     "execution_count": 18,
     "metadata": {},
     "output_type": "execute_result"
    }
   ],
   "source": [
    "# points = np.array(points)\n",
    "for i, p in enumerate(points):\n",
    "    if p.shape == (2,62):\n",
    "        points[i] = np.concatenate((points[i], np.zeros((2,6))), axis=1)\n",
    "\n",
    "\n",
    "points_copy = np.asarray(points)\n",
    "points = np.zeros((len(points_copy) , len(points[0].reshape(-1))))\n",
    "for i in range(len(points)):\n",
    "    points[i] = points_copy[i].flatten()\n",
    "points.shape"
   ]
  },
  {
   "cell_type": "code",
   "execution_count": 19,
   "metadata": {},
   "outputs": [],
   "source": [
    "from sklearn.model_selection import train_test_split"
   ]
  },
  {
   "cell_type": "code",
   "execution_count": 20,
   "metadata": {},
   "outputs": [],
   "source": [
    "face_copy = np.asarray(face)\n",
    "face = np.zeros((len(face_copy) , len(face[0].reshape(-1))))\n",
    "for i in range(len(face)):\n",
    "    face[i] = face_copy[i].flatten()\n",
    "face.shape\n",
    "face[np.isnan(face)] = 0"
   ]
  },
  {
   "cell_type": "code",
   "execution_count": 21,
   "metadata": {},
   "outputs": [],
   "source": [
    "from sklearn.metrics import accuracy_score\n",
    "from sklearn.metrics import confusion_matrix\n",
    "from sklearn.utils import shuffle\n",
    "from sklearn import svm\n",
    "from sklearn.tree import DecisionTreeClassifier\n",
    "from sklearn.ensemble import RandomForestClassifier\n",
    "from sklearn.neighbors import KNeighborsClassifier"
   ]
  },
  {
   "cell_type": "code",
   "execution_count": 22,
   "metadata": {},
   "outputs": [],
   "source": [
    "labels = shuffle(labels, random_state=20)\n",
    "mfcc = shuffle(mfcc, random_state=20)\n",
    "mel = shuffle(mel, random_state=20)\n",
    "points = shuffle(points, random_state=20)\n",
    "face = shuffle(face, random_state=20)"
   ]
  },
  {
   "cell_type": "markdown",
   "metadata": {},
   "source": [
    "Разделение датасета на тестовую и тренеровочную выборку"
   ]
  },
  {
   "cell_type": "code",
   "execution_count": 23,
   "metadata": {},
   "outputs": [],
   "source": [
    "def split(X,y):\n",
    "    X_train, X_test, y_train, y_test = train_test_split(X, y, test_size=0.33, random_state=42)\n",
    "    return  X_train, X_test, y_train, y_test"
   ]
  },
  {
   "cell_type": "code",
   "execution_count": 24,
   "metadata": {},
   "outputs": [],
   "source": [
    "mfcc_train, mfcc_test, y_train, y_test =  split(mfcc, labels)\n",
    "mel_train, mel_test, y_train, y_test =  split(mfcc, labels)\n",
    "points_train, points_test, y_train, y_test =  split(mfcc, labels)\n",
    "face_train, face_test, y_train, y_test =  split(mfcc, labels)"
   ]
  },
  {
   "cell_type": "code",
   "execution_count": null,
   "metadata": {},
   "outputs": [],
   "source": []
  },
  {
   "cell_type": "code",
   "execution_count": 25,
   "metadata": {},
   "outputs": [],
   "source": [
    "# min_size = 1e10\n",
    "# for i in range(6):\n",
    "#     min_size = np.min([np.sum(labels == i), min_size])\n",
    "# train_class_size = int(min_size*0.8)"
   ]
  },
  {
   "cell_type": "code",
   "execution_count": 26,
   "metadata": {},
   "outputs": [],
   "source": [
    "# train_class_size"
   ]
  },
  {
   "cell_type": "code",
   "execution_count": 27,
   "metadata": {},
   "outputs": [],
   "source": [
    "# labels_train = []\n",
    "# labels_test = []\n",
    "\n",
    "# mfcc_train = []\n",
    "# mfcc_test = []\n",
    "\n",
    "# mel_test = []\n",
    "# mel_train= []\n",
    "\n",
    "# points_test = []\n",
    "# points_train= []\n",
    "\n",
    "# face_train = []\n",
    "# face_test = []"
   ]
  },
  {
   "cell_type": "code",
   "execution_count": 28,
   "metadata": {},
   "outputs": [],
   "source": [
    "# class_counter = np.zeros(6)\n",
    "# for i in range(len(labels)):\n",
    "#     class_counter[labels[i]] += 1\n",
    "#     if class_counter[labels[i]] > train_class_size:\n",
    "#         labels_test.append(labels[i])\n",
    "#         mfcc_test.append(mfcc[i])\n",
    "#         mel_test.append(mel[i])\n",
    "#         points_test.append(points[i])\n",
    "#         face_test.append(face[i])\n",
    "#     else:\n",
    "#         labels_train.append(labels[i])\n",
    "#         mfcc_train.append(mfcc[i])\n",
    "#         mel_train.append(mel[i])\n",
    "#         points_train.append(points[i])\n",
    "#         face_train.append(face[i])\n",
    "\n"
   ]
  },
  {
   "cell_type": "code",
   "execution_count": 29,
   "metadata": {},
   "outputs": [],
   "source": [
    "# mfcc_train = np.array(mfcc_train)\n",
    "# mel_train = np.array(mel_train)\n",
    "# points_train = np.array(points_train)\n",
    "# face_train = np.array(face_train)\n",
    "# labels_train = np.array(labels_train)\n",
    "# mfcc_test= np.array(mfcc_test)\n",
    "# mel_test = np.array(mel_test)\n",
    "# points_test = np.array(points_test)\n",
    "# face_test = np.array(face_test)\n",
    "# labels_test = np.array(labels_test)"
   ]
  },
  {
   "cell_type": "code",
   "execution_count": 30,
   "metadata": {},
   "outputs": [
    {
     "data": {
      "text/plain": [
       "(4986, 7520)"
      ]
     },
     "execution_count": 30,
     "metadata": {},
     "output_type": "execute_result"
    }
   ],
   "source": [
    "mfcc_train.shape"
   ]
  },
  {
   "cell_type": "code",
   "execution_count": 31,
   "metadata": {},
   "outputs": [
    {
     "data": {
      "text/plain": [
       "(4986, 7520)"
      ]
     },
     "execution_count": 31,
     "metadata": {},
     "output_type": "execute_result"
    }
   ],
   "source": [
    "mel_train.shape"
   ]
  },
  {
   "cell_type": "code",
   "execution_count": null,
   "metadata": {},
   "outputs": [],
   "source": [
    "\n"
   ]
  },
  {
   "cell_type": "markdown",
   "metadata": {},
   "source": [
    "Конкатенация признаков"
   ]
  },
  {
   "cell_type": "code",
   "execution_count": 32,
   "metadata": {},
   "outputs": [],
   "source": [
    "\n",
    "feach_train =  np.concatenate((mfcc_train, mel_train, points_train, face_train), axis=1)\n",
    "feach_test =  np.concatenate((mfcc_test, mel_test, points_test, face_test), axis=1)"
   ]
  },
  {
   "cell_type": "code",
   "execution_count": 33,
   "metadata": {},
   "outputs": [],
   "source": [
    "from sklearn.ensemble import RandomForestClassifier\n",
    "from sklearn.neighbors import KNeighborsClassifier\n",
    "from sklearn.metrics import f1_score\n",
    "from sklearn.neural_network import MLPClassifier\n",
    "from sklearn.ensemble import StackingClassifier"
   ]
  },
  {
   "cell_type": "markdown",
   "metadata": {},
   "source": [
    "Мфсс классификатор"
   ]
  },
  {
   "cell_type": "code",
   "execution_count": 34,
   "metadata": {},
   "outputs": [
    {
     "name": "stderr",
     "output_type": "stream",
     "text": [
      "/home/liya/.local/lib/python3.8/site-packages/sklearn/utils/validation.py:63: DataConversionWarning: A column-vector y was passed when a 1d array was expected. Please change the shape of y to (n_samples, ), for example using ravel().\n",
      "  return f(*args, **kwargs)\n"
     ]
    },
    {
     "data": {
      "text/plain": [
       "SVC(class_weight='balanced', gamma='auto', probability=True, random_state=20)"
      ]
     },
     "execution_count": 34,
     "metadata": {},
     "output_type": "execute_result"
    }
   ],
   "source": [
    "svm_mfcc =  svm.SVC(gamma=\"auto\", random_state= 20, probability=True, class_weight = \"balanced\")\n",
    "\n",
    "\n",
    "svm_mfcc.fit(mfcc_train, y_train)\n"
   ]
  },
  {
   "cell_type": "code",
   "execution_count": 35,
   "metadata": {},
   "outputs": [
    {
     "name": "stdout",
     "output_type": "stream",
     "text": [
      "f1:  0.21557127875000603\n",
      "accuracy score:  0.5944625407166124\n"
     ]
    }
   ],
   "source": [
    "p_mfcc = svm_mfcc.predict_proba(mfcc_test)\n",
    "y_pred = np.argmax(p_mfcc, axis = 1)\n",
    "\n",
    "acc_mfcc = f1_score(y_test, y_pred, average='macro')\n",
    "print(\"f1: \", acc_mfcc)\n",
    "print(\"accuracy score: \", accuracy_score(y_test, y_pred))\n",
    "\n"
   ]
  },
  {
   "cell_type": "markdown",
   "metadata": {},
   "source": [
    "Мел классификатор"
   ]
  },
  {
   "cell_type": "code",
   "execution_count": 36,
   "metadata": {},
   "outputs": [
    {
     "name": "stderr",
     "output_type": "stream",
     "text": [
      "/home/liya/.local/lib/python3.8/site-packages/sklearn/utils/validation.py:63: DataConversionWarning: A column-vector y was passed when a 1d array was expected. Please change the shape of y to (n_samples, ), for example using ravel().\n",
      "  return f(*args, **kwargs)\n"
     ]
    },
    {
     "data": {
      "text/plain": [
       "SVC(class_weight='balanced', probability=True, random_state=20)"
      ]
     },
     "execution_count": 36,
     "metadata": {},
     "output_type": "execute_result"
    }
   ],
   "source": [
    "svm_mel = svm.SVC( random_state= 20, probability=True, class_weight = \"balanced\")\n",
    "svm_mel.fit(mel_train, y_train)\n"
   ]
  },
  {
   "cell_type": "code",
   "execution_count": 37,
   "metadata": {},
   "outputs": [
    {
     "name": "stdout",
     "output_type": "stream",
     "text": [
      "f1:  0.24130698792245767\n",
      "accuracy score:  0.619299674267101\n"
     ]
    }
   ],
   "source": [
    "p_mel = svm_mel.predict_proba(mel_test)\n",
    "y_pred = np.argmax(p_mel, axis = 1)\n",
    "\n",
    "acc_mel = f1_score(y_test, y_pred, average='macro')\n",
    "print(\"f1: \", acc_mel)\n",
    "print(\"accuracy score: \", accuracy_score(y_test, y_pred))"
   ]
  },
  {
   "cell_type": "markdown",
   "metadata": {},
   "source": [
    "Классификатор ключевых точек лица"
   ]
  },
  {
   "cell_type": "code",
   "execution_count": 38,
   "metadata": {},
   "outputs": [
    {
     "name": "stderr",
     "output_type": "stream",
     "text": [
      "/home/liya/.local/lib/python3.8/site-packages/sklearn/neighbors/_classification.py:179: DataConversionWarning: A column-vector y was passed when a 1d array was expected. Please change the shape of y to (n_samples,), for example using ravel().\n",
      "  return self._fit(X, y)\n"
     ]
    },
    {
     "data": {
      "text/plain": [
       "KNeighborsClassifier(algorithm='ball_tree', metric='euclidean', n_neighbors=20)"
      ]
     },
     "execution_count": 38,
     "metadata": {},
     "output_type": "execute_result"
    }
   ],
   "source": [
    "svm_points = KNeighborsClassifier(n_neighbors=20, algorithm='ball_tree', metric='euclidean')\n",
    "svm_points.fit(points_train, y_train)"
   ]
  },
  {
   "cell_type": "code",
   "execution_count": 39,
   "metadata": {},
   "outputs": [
    {
     "name": "stdout",
     "output_type": "stream",
     "text": [
      "f1:  0.22437084722886516\n",
      "accuracy score:  0.5952768729641694\n"
     ]
    }
   ],
   "source": [
    "p_points = svm_points.predict_proba(points_test)\n",
    "y_pred = np.argmax(p_points, axis = 1)\n",
    "\n",
    "acc_points = f1_score(y_test, y_pred, average='macro')\n",
    "print(\"f1: \", acc_points)\n",
    "print(\"accuracy score: \", accuracy_score(y_test, y_pred))"
   ]
  },
  {
   "cell_type": "markdown",
   "metadata": {},
   "source": [
    "Классификатор лица"
   ]
  },
  {
   "cell_type": "code",
   "execution_count": 40,
   "metadata": {},
   "outputs": [
    {
     "name": "stderr",
     "output_type": "stream",
     "text": [
      "/home/liya/.local/lib/python3.8/site-packages/sklearn/utils/validation.py:63: DataConversionWarning: A column-vector y was passed when a 1d array was expected. Please change the shape of y to (n_samples, ), for example using ravel().\n",
      "  return f(*args, **kwargs)\n"
     ]
    },
    {
     "data": {
      "text/plain": [
       "SVC(class_weight='balanced', probability=True, random_state=20)"
      ]
     },
     "execution_count": 40,
     "metadata": {},
     "output_type": "execute_result"
    }
   ],
   "source": [
    "svm_face = svm.SVC(random_state= 20, probability=True, class_weight = \"balanced\")\n",
    "svm_face.fit(face_train, y_train)\n"
   ]
  },
  {
   "cell_type": "code",
   "execution_count": 41,
   "metadata": {},
   "outputs": [
    {
     "name": "stdout",
     "output_type": "stream",
     "text": [
      "f1:  0.24130698792245767\n",
      "accuracy score:  0.619299674267101\n"
     ]
    }
   ],
   "source": [
    "p_face = svm_face.predict_proba(face_test)\n",
    "y_pred = np.argmax(p_face, axis = 1)\n",
    "\n",
    "acc_face = f1_score(y_test, y_pred, average='macro')\n",
    "print(\"f1: \", acc_face)\n",
    "print(\"accuracy score: \", accuracy_score(y_test, y_pred))"
   ]
  },
  {
   "cell_type": "markdown",
   "metadata": {},
   "source": [
    "Объединение классификаторов в ансамбль"
   ]
  },
  {
   "cell_type": "code",
   "execution_count": 42,
   "metadata": {},
   "outputs": [],
   "source": [
    "sum_acc = acc_face + acc_mel + acc_mfcc + acc_points"
   ]
  },
  {
   "cell_type": "code",
   "execution_count": 43,
   "metadata": {},
   "outputs": [],
   "source": [
    "pr_final = (p_mfcc * (acc_mfcc) +  p_mel * (acc_mel) + p_face * (acc_face) + p_points * (acc_points) )/sum_acc"
   ]
  },
  {
   "cell_type": "code",
   "execution_count": 44,
   "metadata": {},
   "outputs": [
    {
     "name": "stdout",
     "output_type": "stream",
     "text": [
      "f1:  0.22855865153078778\n",
      "accuracy score:  0.6140065146579805\n"
     ]
    }
   ],
   "source": [
    "y_pred = np.argmax(pr_final, axis = 1)\n",
    "\n",
    "acc_final = f1_score(y_test, y_pred, average='macro')\n",
    "print(\"f1: \", acc_final)\n",
    "print(\"accuracy score: \", accuracy_score(y_test, y_pred))"
   ]
  },
  {
   "cell_type": "markdown",
   "metadata": {},
   "source": [
    "Обучение 2х классификаторов на объединенных признаках"
   ]
  },
  {
   "cell_type": "code",
   "execution_count": 45,
   "metadata": {},
   "outputs": [],
   "source": [
    "svm_all =  svm.SVC(kernel= \"poly\",  random_state= 20, probability=True, class_weight = \"balanced\")\n",
    "tree_all =  RandomForestClassifier(max_depth=200, n_estimators=100, class_weight = \"balanced\")\n",
    "\n"
   ]
  },
  {
   "cell_type": "code",
   "execution_count": 46,
   "metadata": {},
   "outputs": [
    {
     "name": "stderr",
     "output_type": "stream",
     "text": [
      "/tmp/ipykernel_31063/3189971335.py:1: DataConversionWarning: A column-vector y was passed when a 1d array was expected. Please change the shape of y to (n_samples,), for example using ravel().\n",
      "  tree_all.fit(feach_train, y_train)\n"
     ]
    },
    {
     "data": {
      "text/plain": [
       "RandomForestClassifier(class_weight='balanced', max_depth=200)"
      ]
     },
     "execution_count": 46,
     "metadata": {},
     "output_type": "execute_result"
    }
   ],
   "source": [
    "tree_all.fit(feach_train, y_train)"
   ]
  },
  {
   "cell_type": "code",
   "execution_count": 47,
   "metadata": {},
   "outputs": [
    {
     "name": "stderr",
     "output_type": "stream",
     "text": [
      "/home/liya/.local/lib/python3.8/site-packages/sklearn/utils/validation.py:63: DataConversionWarning: A column-vector y was passed when a 1d array was expected. Please change the shape of y to (n_samples, ), for example using ravel().\n",
      "  return f(*args, **kwargs)\n"
     ]
    },
    {
     "data": {
      "text/plain": [
       "SVC(class_weight='balanced', kernel='poly', probability=True, random_state=20)"
      ]
     },
     "execution_count": 47,
     "metadata": {},
     "output_type": "execute_result"
    }
   ],
   "source": [
    "svm_all.fit(feach_train, y_train)"
   ]
  },
  {
   "cell_type": "code",
   "execution_count": 48,
   "metadata": {},
   "outputs": [],
   "source": [
    "p_svm= svm_all.predict_proba(feach_test) "
   ]
  },
  {
   "cell_type": "code",
   "execution_count": 49,
   "metadata": {},
   "outputs": [
    {
     "name": "stdout",
     "output_type": "stream",
     "text": [
      "accuracy score:  0.635586319218241\n"
     ]
    }
   ],
   "source": [
    "y_pred = np.argmax(p_svm, axis = 1)\n",
    "f1_svm =  f1_score(y_test, y_pred, average='macro')\n",
    "print(\"accuracy score: \", accuracy_score(y_test, y_pred))"
   ]
  },
  {
   "cell_type": "code",
   "execution_count": 50,
   "metadata": {},
   "outputs": [],
   "source": [
    "p_tree= tree_all.predict_proba(feach_test) "
   ]
  },
  {
   "cell_type": "code",
   "execution_count": 51,
   "metadata": {},
   "outputs": [
    {
     "name": "stdout",
     "output_type": "stream",
     "text": [
      "accuracy score:  0.616042345276873\n"
     ]
    }
   ],
   "source": [
    "y_pred = np.argmax(p_tree, axis = 1)\n",
    "f1_tree =  f1_score(y_test, y_pred, average='macro')\n",
    "print(\"accuracy score: \", accuracy_score(y_test, y_pred))\n"
   ]
  },
  {
   "cell_type": "code",
   "execution_count": 52,
   "metadata": {},
   "outputs": [],
   "source": [
    "p_all = f1_svm * p_svm + f1_tree *p_tree"
   ]
  },
  {
   "cell_type": "code",
   "execution_count": 53,
   "metadata": {},
   "outputs": [],
   "source": [
    "y_pred = np.argmax(p_all, axis = 1)"
   ]
  },
  {
   "cell_type": "code",
   "execution_count": 54,
   "metadata": {},
   "outputs": [
    {
     "name": "stdout",
     "output_type": "stream",
     "text": [
      "accuracy score:  0.636400651465798\n"
     ]
    }
   ],
   "source": [
    "\n",
    "acc_feach = f1_score(y_test, y_pred, average='macro')\n",
    "print(\"accuracy score: \", accuracy_score(y_test, y_pred))\n"
   ]
  },
  {
   "cell_type": "code",
   "execution_count": 55,
   "metadata": {},
   "outputs": [
    {
     "name": "stdout",
     "output_type": "stream",
     "text": [
      "f1 all:  0.25982484939279\n",
      "f1 tree:  0.23358300503051574\n",
      "f1 svm:  0.28545492874170414\n"
     ]
    }
   ],
   "source": [
    "print(\"f1 all: \", acc_feach)\n",
    "print(\"f1 tree: \", f1_tree)\n",
    "print(\"f1 svm: \", f1_svm)"
   ]
  },
  {
   "cell_type": "markdown",
   "metadata": {},
   "source": [
    "Подбор колличества деревьев и их глубины"
   ]
  },
  {
   "cell_type": "code",
   "execution_count": 56,
   "metadata": {},
   "outputs": [
    {
     "name": "stdout",
     "output_type": "stream",
     "text": [
      "0\n"
     ]
    },
    {
     "name": "stderr",
     "output_type": "stream",
     "text": [
      "/tmp/ipykernel_31063/4094544739.py:6: DataConversionWarning: A column-vector y was passed when a 1d array was expected. Please change the shape of y to (n_samples,), for example using ravel().\n",
      "  tree_all.fit(feach_train, y_train)\n"
     ]
    },
    {
     "name": "stdout",
     "output_type": "stream",
     "text": [
      "1\n"
     ]
    },
    {
     "name": "stderr",
     "output_type": "stream",
     "text": [
      "/tmp/ipykernel_31063/4094544739.py:6: DataConversionWarning: A column-vector y was passed when a 1d array was expected. Please change the shape of y to (n_samples,), for example using ravel().\n",
      "  tree_all.fit(feach_train, y_train)\n"
     ]
    },
    {
     "name": "stdout",
     "output_type": "stream",
     "text": [
      "2\n"
     ]
    },
    {
     "name": "stderr",
     "output_type": "stream",
     "text": [
      "/tmp/ipykernel_31063/4094544739.py:6: DataConversionWarning: A column-vector y was passed when a 1d array was expected. Please change the shape of y to (n_samples,), for example using ravel().\n",
      "  tree_all.fit(feach_train, y_train)\n"
     ]
    },
    {
     "name": "stdout",
     "output_type": "stream",
     "text": [
      "3\n"
     ]
    },
    {
     "name": "stderr",
     "output_type": "stream",
     "text": [
      "/tmp/ipykernel_31063/4094544739.py:6: DataConversionWarning: A column-vector y was passed when a 1d array was expected. Please change the shape of y to (n_samples,), for example using ravel().\n",
      "  tree_all.fit(feach_train, y_train)\n"
     ]
    },
    {
     "name": "stdout",
     "output_type": "stream",
     "text": [
      "4\n"
     ]
    },
    {
     "name": "stderr",
     "output_type": "stream",
     "text": [
      "/tmp/ipykernel_31063/4094544739.py:6: DataConversionWarning: A column-vector y was passed when a 1d array was expected. Please change the shape of y to (n_samples,), for example using ravel().\n",
      "  tree_all.fit(feach_train, y_train)\n"
     ]
    },
    {
     "name": "stdout",
     "output_type": "stream",
     "text": [
      "best n_estimators:  800\n",
      "best f1:  0.24117687197759421\n"
     ]
    }
   ],
   "source": [
    "f1 = []\n",
    "n_estimators_my = [200, 800, 1400, 2000, 2600]\n",
    "for i in range(len(n_estimators_my)):\n",
    "    print(i)\n",
    "    tree_all =  RandomForestClassifier(max_depth=200, n_estimators=n_estimators_my[i], class_weight = \"balanced\")\n",
    "    tree_all.fit(feach_train, y_train)\n",
    "    f1.append(f1_score(y_test, tree_all.predict(feach_test) , average='macro')) \n",
    "\n",
    "\n",
    "\n",
    "estimators_my = n_estimators_my[np.argmax(f1)]\n",
    "print(\"best n_estimators: \" , n_estimators_my[np.argmax(f1)])\n",
    "print(\"best f1: \" , np.max(f1))"
   ]
  },
  {
   "cell_type": "code",
   "execution_count": 57,
   "metadata": {},
   "outputs": [
    {
     "name": "stdout",
     "output_type": "stream",
     "text": [
      "best n_estimators:  800\n",
      "best f1:  0.24117687197759421\n"
     ]
    },
    {
     "data": {
      "image/png": "[encoded data removed]",
      "text/plain": [
       "<Figure size 432x288 with 1 Axes>"
      ]
     },
     "metadata": {
      "needs_background": "light"
     },
     "output_type": "display_data"
    }
   ],
   "source": [
    "plt.plot(f1)\n",
    "print(\"best n_estimators: \" , n_estimators_my[np.argmax(f1)])\n",
    "print(\"best f1: \" , np.max(f1))"
   ]
  },
  {
   "cell_type": "code",
   "execution_count": 59,
   "metadata": {},
   "outputs": [
    {
     "name": "stdout",
     "output_type": "stream",
     "text": [
      "0\n"
     ]
    },
    {
     "name": "stderr",
     "output_type": "stream",
     "text": [
      "/tmp/ipykernel_31063/2332611052.py:6: DataConversionWarning: A column-vector y was passed when a 1d array was expected. Please change the shape of y to (n_samples,), for example using ravel().\n",
      "  tree_all.fit(feach_train, y_train)\n"
     ]
    },
    {
     "name": "stdout",
     "output_type": "stream",
     "text": [
      "1\n"
     ]
    },
    {
     "name": "stderr",
     "output_type": "stream",
     "text": [
      "/tmp/ipykernel_31063/2332611052.py:6: DataConversionWarning: A column-vector y was passed when a 1d array was expected. Please change the shape of y to (n_samples,), for example using ravel().\n",
      "  tree_all.fit(feach_train, y_train)\n"
     ]
    },
    {
     "name": "stdout",
     "output_type": "stream",
     "text": [
      "2\n"
     ]
    },
    {
     "name": "stderr",
     "output_type": "stream",
     "text": [
      "/tmp/ipykernel_31063/2332611052.py:6: DataConversionWarning: A column-vector y was passed when a 1d array was expected. Please change the shape of y to (n_samples,), for example using ravel().\n",
      "  tree_all.fit(feach_train, y_train)\n"
     ]
    },
    {
     "name": "stdout",
     "output_type": "stream",
     "text": [
      "3\n"
     ]
    },
    {
     "name": "stderr",
     "output_type": "stream",
     "text": [
      "/tmp/ipykernel_31063/2332611052.py:6: DataConversionWarning: A column-vector y was passed when a 1d array was expected. Please change the shape of y to (n_samples,), for example using ravel().\n",
      "  tree_all.fit(feach_train, y_train)\n"
     ]
    },
    {
     "name": "stdout",
     "output_type": "stream",
     "text": [
      "best n_estimators:  10\n",
      "best f1:  0.31713606754150975\n"
     ]
    }
   ],
   "source": [
    "f1 = []\n",
    "max_depth_my = [10, 173.33, 336.66, 500]\n",
    "for i in range(len(max_depth_my)):\n",
    "    print(i)\n",
    "    tree_all =  RandomForestClassifier(max_depth=max_depth_my[i], n_estimators=estimators_my, class_weight = \"balanced\")\n",
    "    tree_all.fit(feach_train, y_train)\n",
    "    f1.append(f1_score(y_test, tree_all.predict(feach_test) , average='macro')) \n",
    "\n",
    "\n",
    "deth = max_depth_my[np.argmax(f1)]\n",
    "print(\"best n_estimators: \" , max_depth_my[np.argmax(f1)])\n",
    "print(\"best f1: \" , np.max(f1))"
   ]
  },
  {
   "cell_type": "code",
   "execution_count": 60,
   "metadata": {},
   "outputs": [
    {
     "name": "stderr",
     "output_type": "stream",
     "text": [
      "/tmp/ipykernel_31063/522804992.py:2: DataConversionWarning: A column-vector y was passed when a 1d array was expected. Please change the shape of y to (n_samples,), for example using ravel().\n",
      "  tree_all.fit(feach_train, y_train)\n"
     ]
    }
   ],
   "source": [
    "tree_all =  RandomForestClassifier(max_depth=deth, n_estimators= estimators_my, class_weight = \"balanced\")\n",
    "tree_all.fit(feach_train, y_train)\n",
    "p_tree= tree_all.predict_proba(feach_test) \n",
    "y_pred = np.argmax(p_tree, axis = 1)\n",
    "f1_tree =  f1_score(y_test, y_pred, average='macro')"
   ]
  },
  {
   "cell_type": "markdown",
   "metadata": {},
   "source": [
    "Финальный классификатор"
   ]
  },
  {
   "cell_type": "code",
   "execution_count": 61,
   "metadata": {},
   "outputs": [
    {
     "name": "stdout",
     "output_type": "stream",
     "text": [
      "f1 final:  0.28183242824968857\n",
      "accuracy score:  0.6319218241042345\n"
     ]
    }
   ],
   "source": [
    "p_all = f1_svm * p_svm + f1_tree *p_tree\n",
    "y_pred = np.argmax(p_all, axis = 1)\n",
    "acc_feach = f1_score(y_test, y_pred, average='macro')\n",
    "print(\"f1 final: \", acc_feach)\n",
    "print(\"accuracy score: \", accuracy_score(y_test, y_pred))"
   ]
  },
  {
   "cell_type": "code",
   "execution_count": null,
   "metadata": {},
   "outputs": [],
   "source": []
  },
  {
   "cell_type": "code",
   "execution_count": null,
   "metadata": {},
   "outputs": [],
   "source": [
    "\n"
   ]
  },
  {
   "cell_type": "code",
   "execution_count": null,
   "metadata": {},
   "outputs": [],
   "source": []
  },
  {
   "cell_type": "code",
   "execution_count": null,
   "metadata": {},
   "outputs": [],
   "source": [
    "\n",
    "\n"
   ]
  },
  {
   "cell_type": "code",
   "execution_count": null,
   "metadata": {},
   "outputs": [],
   "source": []
  },
  {
   "cell_type": "code",
   "execution_count": null,
   "metadata": {},
   "outputs": [],
   "source": [
    "\n",
    "\n"
   ]
  },
  {
   "cell_type": "code",
   "execution_count": null,
   "metadata": {},
   "outputs": [],
   "source": [
    "\n"
   ]
  },
  {
   "cell_type": "code",
   "execution_count": null,
   "metadata": {},
   "outputs": [],
   "source": [
    "\n"
   ]
  },
  {
   "cell_type": "code",
   "execution_count": null,
   "metadata": {},
   "outputs": [],
   "source": []
  },
  {
   "cell_type": "code",
   "execution_count": null,
   "metadata": {},
   "outputs": [],
   "source": [
    "\n"
   ]
  },
  {
   "cell_type": "code",
   "execution_count": null,
   "metadata": {},
   "outputs": [],
   "source": []
  },
  {
   "cell_type": "code",
   "execution_count": null,
   "metadata": {},
   "outputs": [],
   "source": []
  },
  {
   "cell_type": "code",
   "execution_count": null,
   "metadata": {},
   "outputs": [],
   "source": []
  },
  {
   "cell_type": "code",
   "execution_count": null,
   "metadata": {},
   "outputs": [],
   "source": []
  }
 ],
 "metadata": {
  "interpreter": {
   "hash": "916dbcbb3f70747c44a77c7bcd40155683ae19c65e1c03b4aa3499c5328201f1"
  },
  "kernelspec": {
   "display_name": "Python 3.8.10 64-bit",
   "language": "python",
   "name": "python3"
  },
  "language_info": {
   "codemirror_mode": {
    "name": "ipython",
    "version": 3
   },
   "file_extension": ".py",
   "mimetype": "text/x-python",
   "name": "python",
   "nbconvert_exporter": "python",
   "pygments_lexer": "ipython3",
   "version": "3.8.10"
  },
  "orig_nbformat": 4
 },
 "nbformat": 4,
 "nbformat_minor": 2
}
